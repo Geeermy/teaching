{
  "nbformat": 4,
  "nbformat_minor": 0,
  "metadata": {
    "colab": {
      "provenance": []
    },
    "kernelspec": {
      "name": "python3",
      "display_name": "Python 3"
    },
    "language_info": {
      "name": "python"
    }
  },
  "cells": [
    {
      "cell_type": "markdown",
      "metadata": {
        "id": "WJJixIzKdEVl"
      },
      "source": [
        "# Diplomado en Big Data - Introducción a las Herramientas de la Nube\n",
        "\n",
        "### **Profesor:** Germán Leandro Contreras Sagredo\n",
        "### **Ayudante:** Valentina Rojas Mercier\n",
        "\n",
        "## Actividad de la Clase 1: Creación de cuentas y uso de credenciales\n",
        "\n",
        "En la siguiente actividad, nos dedicaremos a crear una cuenta para Amazon Web Services y Google Cloud. Este proceso es quizás el más \"aburrido\" que haremos durante el curso, pero es importante llevarlo a cabo para poder hacer uso de las herramientas sin problemas.\n",
        "\n",
        "Si lo desean, pueden crear un nuevo correo electrónico para ellas, o bien usar el que sea de su preferencia.\n",
        "\n",
        "**Importante:** Para poder llevar a cabo la creación de las cuentas, es necesario incluir en el proceso una tarjeta de crédito. Si bien les puedo asegurar que no se les hará ningún cobro siempre que respeten las cuotas de la cuenta gratuita, entiendo si prefieren no hacerlo. En ese caso, deben comunicarse conmigo para poder facilitarles credenciales de una cuenta ya creada."
      ]
    },
    {
      "cell_type": "markdown",
      "metadata": {
        "id": "q0MNrC74dDp5"
      },
      "source": [
        "### PASO 1 - Instalar las librerías a utilizar.\n",
        "\n",
        "Instalamos las librerías para hacer uso de AWS (boto3) y Google Cloud. En el caso de este último, existe una librería por servicio a utilizar. De momento, haremos uso de los servicios de almacenamiento de objetos: S3 y Google Cloud Storage."
      ]
    },
    {
      "cell_type": "code",
      "metadata": {
        "id": "Q5v-arwddBcb",
        "outputId": "cc151638-eb33-45bd-b599-edf956e90cd4",
        "colab": {
          "base_uri": "https://localhost:8080/"
        }
      },
      "source": [
        "!pip install boto3\n",
        "!pip install google-cloud-storage"
      ],
      "execution_count": null,
      "outputs": [
        {
          "output_type": "stream",
          "text": [
            "Collecting boto3\n",
            "  Downloading boto3-1.18.10-py3-none-any.whl (131 kB)\n",
            "\u001b[?25l\r\u001b[K     |██▌                             | 10 kB 21.9 MB/s eta 0:00:01\r\u001b[K     |█████                           | 20 kB 10.3 MB/s eta 0:00:01\r\u001b[K     |███████▌                        | 30 kB 8.6 MB/s eta 0:00:01\r\u001b[K     |██████████                      | 40 kB 7.6 MB/s eta 0:00:01\r\u001b[K     |████████████▌                   | 51 kB 4.1 MB/s eta 0:00:01\r\u001b[K     |███████████████                 | 61 kB 4.4 MB/s eta 0:00:01\r\u001b[K     |█████████████████▍              | 71 kB 4.5 MB/s eta 0:00:01\r\u001b[K     |████████████████████            | 81 kB 5.0 MB/s eta 0:00:01\r\u001b[K     |██████████████████████▍         | 92 kB 5.1 MB/s eta 0:00:01\r\u001b[K     |█████████████████████████       | 102 kB 4.0 MB/s eta 0:00:01\r\u001b[K     |███████████████████████████▍    | 112 kB 4.0 MB/s eta 0:00:01\r\u001b[K     |█████████████████████████████▉  | 122 kB 4.0 MB/s eta 0:00:01\r\u001b[K     |████████████████████████████████| 131 kB 4.0 MB/s \n",
            "\u001b[?25hCollecting s3transfer<0.6.0,>=0.5.0\n",
            "  Downloading s3transfer-0.5.0-py3-none-any.whl (79 kB)\n",
            "\u001b[K     |████████████████████████████████| 79 kB 4.1 MB/s \n",
            "\u001b[?25hCollecting jmespath<1.0.0,>=0.7.1\n",
            "  Downloading jmespath-0.10.0-py2.py3-none-any.whl (24 kB)\n",
            "Collecting botocore<1.22.0,>=1.21.10\n",
            "  Downloading botocore-1.21.10-py3-none-any.whl (7.8 MB)\n",
            "\u001b[K     |████████████████████████████████| 7.8 MB 6.7 MB/s \n",
            "\u001b[?25hCollecting urllib3<1.27,>=1.25.4\n",
            "  Downloading urllib3-1.26.6-py2.py3-none-any.whl (138 kB)\n",
            "\u001b[K     |████████████████████████████████| 138 kB 50.2 MB/s \n",
            "\u001b[?25hRequirement already satisfied: python-dateutil<3.0.0,>=2.1 in /usr/local/lib/python3.7/dist-packages (from botocore<1.22.0,>=1.21.10->boto3) (2.8.1)\n",
            "Requirement already satisfied: six>=1.5 in /usr/local/lib/python3.7/dist-packages (from python-dateutil<3.0.0,>=2.1->botocore<1.22.0,>=1.21.10->boto3) (1.15.0)\n",
            "Installing collected packages: urllib3, jmespath, botocore, s3transfer, boto3\n",
            "  Attempting uninstall: urllib3\n",
            "    Found existing installation: urllib3 1.24.3\n",
            "    Uninstalling urllib3-1.24.3:\n",
            "      Successfully uninstalled urllib3-1.24.3\n",
            "\u001b[31mERROR: pip's dependency resolver does not currently take into account all the packages that are installed. This behaviour is the source of the following dependency conflicts.\n",
            "requests 2.23.0 requires urllib3!=1.25.0,!=1.25.1,<1.26,>=1.21.1, but you have urllib3 1.26.6 which is incompatible.\n",
            "datascience 0.10.6 requires folium==0.2.1, but you have folium 0.8.3 which is incompatible.\u001b[0m\n",
            "Successfully installed boto3-1.18.10 botocore-1.21.10 jmespath-0.10.0 s3transfer-0.5.0 urllib3-1.26.6\n",
            "Requirement already satisfied: google-cloud-storage in /usr/local/lib/python3.7/dist-packages (1.18.1)\n",
            "Requirement already satisfied: google-resumable-media<0.5.0dev,>=0.3.1 in /usr/local/lib/python3.7/dist-packages (from google-cloud-storage) (0.4.1)\n",
            "Requirement already satisfied: google-cloud-core<2.0dev,>=1.0.0 in /usr/local/lib/python3.7/dist-packages (from google-cloud-storage) (1.0.3)\n",
            "Requirement already satisfied: google-auth>=1.2.0 in /usr/local/lib/python3.7/dist-packages (from google-cloud-storage) (1.32.1)\n",
            "Requirement already satisfied: setuptools>=40.3.0 in /usr/local/lib/python3.7/dist-packages (from google-auth>=1.2.0->google-cloud-storage) (57.2.0)\n",
            "Requirement already satisfied: cachetools<5.0,>=2.0.0 in /usr/local/lib/python3.7/dist-packages (from google-auth>=1.2.0->google-cloud-storage) (4.2.2)\n",
            "Requirement already satisfied: six>=1.9.0 in /usr/local/lib/python3.7/dist-packages (from google-auth>=1.2.0->google-cloud-storage) (1.15.0)\n",
            "Requirement already satisfied: rsa<5,>=3.1.4 in /usr/local/lib/python3.7/dist-packages (from google-auth>=1.2.0->google-cloud-storage) (4.7.2)\n",
            "Requirement already satisfied: pyasn1-modules>=0.2.1 in /usr/local/lib/python3.7/dist-packages (from google-auth>=1.2.0->google-cloud-storage) (0.2.8)\n",
            "Requirement already satisfied: google-api-core<2.0.0dev,>=1.14.0 in /usr/local/lib/python3.7/dist-packages (from google-cloud-core<2.0dev,>=1.0.0->google-cloud-storage) (1.26.3)\n",
            "Requirement already satisfied: pytz in /usr/local/lib/python3.7/dist-packages (from google-api-core<2.0.0dev,>=1.14.0->google-cloud-core<2.0dev,>=1.0.0->google-cloud-storage) (2018.9)\n",
            "Requirement already satisfied: packaging>=14.3 in /usr/local/lib/python3.7/dist-packages (from google-api-core<2.0.0dev,>=1.14.0->google-cloud-core<2.0dev,>=1.0.0->google-cloud-storage) (21.0)\n",
            "Requirement already satisfied: requests<3.0.0dev,>=2.18.0 in /usr/local/lib/python3.7/dist-packages (from google-api-core<2.0.0dev,>=1.14.0->google-cloud-core<2.0dev,>=1.0.0->google-cloud-storage) (2.23.0)\n",
            "Requirement already satisfied: protobuf>=3.12.0 in /usr/local/lib/python3.7/dist-packages (from google-api-core<2.0.0dev,>=1.14.0->google-cloud-core<2.0dev,>=1.0.0->google-cloud-storage) (3.17.3)\n",
            "Requirement already satisfied: googleapis-common-protos<2.0dev,>=1.6.0 in /usr/local/lib/python3.7/dist-packages (from google-api-core<2.0.0dev,>=1.14.0->google-cloud-core<2.0dev,>=1.0.0->google-cloud-storage) (1.53.0)\n",
            "Requirement already satisfied: pyparsing>=2.0.2 in /usr/local/lib/python3.7/dist-packages (from packaging>=14.3->google-api-core<2.0.0dev,>=1.14.0->google-cloud-core<2.0dev,>=1.0.0->google-cloud-storage) (2.4.7)\n",
            "Requirement already satisfied: pyasn1<0.5.0,>=0.4.6 in /usr/local/lib/python3.7/dist-packages (from pyasn1-modules>=0.2.1->google-auth>=1.2.0->google-cloud-storage) (0.4.8)\n",
            "Collecting urllib3!=1.25.0,!=1.25.1,<1.26,>=1.21.1\n",
            "  Downloading urllib3-1.25.11-py2.py3-none-any.whl (127 kB)\n",
            "\u001b[K     |████████████████████████████████| 127 kB 4.3 MB/s \n",
            "\u001b[?25hRequirement already satisfied: idna<3,>=2.5 in /usr/local/lib/python3.7/dist-packages (from requests<3.0.0dev,>=2.18.0->google-api-core<2.0.0dev,>=1.14.0->google-cloud-core<2.0dev,>=1.0.0->google-cloud-storage) (2.10)\n",
            "Requirement already satisfied: chardet<4,>=3.0.2 in /usr/local/lib/python3.7/dist-packages (from requests<3.0.0dev,>=2.18.0->google-api-core<2.0.0dev,>=1.14.0->google-cloud-core<2.0dev,>=1.0.0->google-cloud-storage) (3.0.4)\n",
            "Requirement already satisfied: certifi>=2017.4.17 in /usr/local/lib/python3.7/dist-packages (from requests<3.0.0dev,>=2.18.0->google-api-core<2.0.0dev,>=1.14.0->google-cloud-core<2.0dev,>=1.0.0->google-cloud-storage) (2021.5.30)\n",
            "Installing collected packages: urllib3\n",
            "  Attempting uninstall: urllib3\n",
            "    Found existing installation: urllib3 1.26.6\n",
            "    Uninstalling urllib3-1.26.6:\n",
            "      Successfully uninstalled urllib3-1.26.6\n",
            "\u001b[31mERROR: pip's dependency resolver does not currently take into account all the packages that are installed. This behaviour is the source of the following dependency conflicts.\n",
            "datascience 0.10.6 requires folium==0.2.1, but you have folium 0.8.3 which is incompatible.\u001b[0m\n",
            "Successfully installed urllib3-1.25.11\n"
          ],
          "name": "stdout"
        }
      ]
    },
    {
      "cell_type": "markdown",
      "metadata": {
        "id": "708H8YMcHR4O"
      },
      "source": [
        "### PASO 2 - Acceder a *bucket* de S3 y descargar archivo\n",
        "\n",
        "Para efectos de esta actividad, haremos uso de una cuenta ya creada.\n",
        "\n",
        "Vamos a acceder a un *bucket* en S3 llamado \"introduccion-herramientas-nube-actividad-1\", descargar un archivo y mostrarlo en una celda."
      ]
    },
    {
      "cell_type": "code",
      "metadata": {
        "id": "pUgKVkGMG-Qi"
      },
      "source": [
        "import boto3\n",
        "\n",
        "# Obtenemos el acceso a S3. Aquí incluimos las credenciales a nuestra cuenta.\n",
        "s3 = boto3.resource(\n",
        "    's3',\n",
        "    aws_access_key_id='',\n",
        "    aws_secret_access_key=''\n",
        ")\n",
        "\n",
        "# Accedemos al bucket según su nombre.\n",
        "bucket = s3.Bucket('introduccion-herramientas-nube-actividad-1')\n",
        "\n",
        "# Descargamos el archivo. Ingresa el nombre del archivo que desees, respetando\n",
        "# su formato.\n",
        "bucket.download_file('ejemplo.gif','yo-bailando.gif')"
      ],
      "execution_count": null,
      "outputs": []
    },
    {
      "cell_type": "markdown",
      "metadata": {
        "id": "MK2Us4q_Pmma"
      },
      "source": [
        "Vemos el archivo a continuación. Cambie el nombre por el del archivo creado."
      ]
    },
    {
      "cell_type": "code",
      "metadata": {
        "id": "EuDr_AJ6Q5mU"
      },
      "source": [
        "from IPython.display import Image\n",
        "# Escribe aquí el nombre de archivo que hayas escrito.\n",
        "Image(open('yo-bailando.gif','rb').read())"
      ],
      "execution_count": null,
      "outputs": []
    },
    {
      "cell_type": "markdown",
      "metadata": {
        "id": "bbPhiuyfTkfa"
      },
      "source": [
        "### PASO 3 - Acceder a *bucket* de Cloud Storage y descargar archivo\n",
        "\n",
        "Para efectos de esta actividad, haremos uso de una cuenta ya creada.\n",
        "\n",
        "Vamos a acceder a un bucket en Cloud Storage llamado \"introduccion-herramientas-nube-actividad-1\", descargar un archivo y mostrarlo en una celda. Para ello, antes de ver el código, es necesario descargar las credenciales haciendo uso de lo que acabamos de aprender."
      ]
    },
    {
      "cell_type": "code",
      "metadata": {
        "id": "2fwx6EoQTY39"
      },
      "source": [
        "# Descargamos el archivo de credenciales. Ingresa el nombre del archivo que\n",
        "# desees, respetando su formato.\n",
        "bucket.download_file('google-credentials.json','credentials.json')"
      ],
      "execution_count": null,
      "outputs": []
    },
    {
      "cell_type": "markdown",
      "metadata": {
        "id": "qDYLx78DvGSk"
      },
      "source": [
        "Exportamos la ruta de este archivo en una variable de entorno y procedemos a iniciar un cliente de Cloud Storage para obtener el archivo."
      ]
    },
    {
      "cell_type": "code",
      "metadata": {
        "id": "JpAK0EYjBk46"
      },
      "source": [
        "# Desde esta librería podemos configurar nuestras variables de entorno. Cabe\n",
        "# destacar que aquí le debemos pasar la ruta del archivo, no solo el nombre.\n",
        "# En este caso basta con el nombre al encontrarse en el mismo directorio.\n",
        "import os\n",
        "os.environ['GOOGLE_APPLICATION_CREDENTIALS'] = 'credentials.json'"
      ],
      "execution_count": null,
      "outputs": []
    },
    {
      "cell_type": "code",
      "metadata": {
        "id": "5FplTU3OBGWa"
      },
      "source": [
        "# Importamos la librería storage.\n",
        "from google.cloud import storage\n",
        "\n",
        "# Instanciamos el cliente.\n",
        "storage_client = storage.Client()\n",
        "\n",
        "# Nombre del bucket\n",
        "bucket_name = 'introduccion-herramientas-nube-actividad-1'\n",
        "\n",
        "# Obtenemos el bucket.\n",
        "bucket = storage_client.get_bucket(bucket_name)\n",
        "\n",
        "# Obtenemos el \"blob\" (archivo)\n",
        "blob = bucket.blob('ejemplo2.gif')\n",
        "\n",
        "# Descargamos el archivo. Escojan el nombre que deseen, respetando el formato.\n",
        "blob.download_to_filename('perro.gif')"
      ],
      "execution_count": null,
      "outputs": []
    },
    {
      "cell_type": "markdown",
      "metadata": {
        "id": "avsnBd3Vn8OQ"
      },
      "source": [
        "Vemos el archivo a continuación."
      ]
    },
    {
      "cell_type": "code",
      "metadata": {
        "id": "DpuYnD-aDsxn"
      },
      "source": [
        "# Completar con el nombre de archivo escogido.\n",
        "Image(open('perro.gif','rb').read())"
      ],
      "execution_count": null,
      "outputs": []
    },
    {
      "cell_type": "markdown",
      "metadata": {
        "id": "Q9futW4cfo0r"
      },
      "source": [
        "### PARTE 4 (Opcional) - Creando nuestras cuentas\n",
        "\n",
        "A continuación, si lo deseas, veremos cómo crear nuestra cuenta gratuita de\n",
        "Amazon Web Services y Google Cloud Computing.\n",
        "\n",
        "#### Cuenta en AWS\n",
        "\n",
        "1. Ingresa al siguiente enlace y registra tu cuenta: https://portal.aws.amazon.com/billing/signup. Ponle el nombre de cuenta AWS que desees.\n",
        "![Paso 1](https://drive.google.com/uc?export=view&id=1AMtvSr6VhsgTbf89_SgyWtgjciHfTabR)  \n",
        "2. Ingresado los datos de cuenta, ingresa tu información personal y dirección. Asegúrate de marcar la casilla \"Personal\" en modo de uso de AWS.\n",
        "![Paso 2](https://drive.google.com/uc?export=view&id=1h_QFvDm5lo6vgpHf9fgLyD-9wINUZLD0)  \n",
        "3. Ingresa tus datos financieros. Solo habrá una retención de 1 dólar como verificación.\n",
        "![Paso 3](https://drive.google.com/uc?export=view&id=1fQgKV4-rXk8Twb92C7qRoMCeaOzq981a)  \n",
        "4. Ingresa tu número telefónico e ingresa el código recibido como medio de verificación.\n",
        "![Paso 4](https://drive.google.com/uc?export=view&id=1NktcATAHvYMmxFZ79a809Ywz3-6odYj-)  \n",
        "\n",
        "5. Selecciona el tipo de soporte básico. Queremos evitar cobros.\n",
        "![Paso 5](https://drive.google.com/uc?export=view&id=1zCBpC0iFzJg14YHgrc6W6ZoXr5IQ6T7i)\n",
        "6. ¡Tu cuenta fue creada exitosamente! Ahora, ingresa a la consola para poder obtener las credenciales.\n",
        "![Paso 6](https://drive.google.com/uc?export=view&id=12KKWSNpbw0HWSa262zQTSEzxLWC320Rh)    \n",
        "7. Ingresa a tu cuenta como tipo de usuario \"raíz\".\n",
        "![Paso 7](https://drive.google.com/uc?export=view&id=17GilQIS48FHmIO4wjWchlWzvypzcxjKn)  \n",
        "8. Verás el panel con todos los recursos disponibles de AWS. Ingresa a \"IAM\".\n",
        "![Paso 8](https://drive.google.com/uc?export=view&id=1jOEhXYIuzfTYECaMgnjV3c7889hqOOzv)  \n",
        "9. Dentro del panel de IAM, ingresa al enlace \"Mi clave de acceso\" en la sección \"Enlaces rápidos\"\n",
        "![Paso 9](https://drive.google.com/uc?export=view&id=1p8gWEW1lZIN3LqbYgmSr09E-Lwlqy-Mx)  \n",
        "10. Presiona el botón \"Crear una clave de acceso\".\n",
        "![Paso 10](https://drive.google.com/uc?export=view&id=1o5cpvoptQoHEUbqA7UzePEqY3ZpQRrqn)  \n",
        "11. Se puede descargar la clave creada, que será un archivo CSV que contiene las credenciales de su cuenta. Pueden desplegarlas también, pero asegúrense de respaldarlas antes de cerrar la ventana, porque en otro caso no podrán verlas de nuevo y tendrán que crear listo.\n",
        "![Paso 11](https://drive.google.com/uc?export=view&id=1uCOZXe-WOqYHzsJlDta37y-ssnZKhXiD)  \n",
        "12. Si deciden desplegarlas, se verá de esta forma (claves censuradas a propósito).\n",
        "![Paso 12](https://drive.google.com/uc?export=view&id=1ZWnFfF97P3fm8R-HcjV5_NUbLQt_7wIr)\n",
        "\n",
        "¡Listo! Ahora podemos probar rápidamente nuestra cuenta."
      ]
    },
    {
      "cell_type": "code",
      "metadata": {
        "id": "y68bMyp9xtFg"
      },
      "source": [
        "# Obtenemos el acceso a S3. Aquí incluimos las credenciales a nuestra cuenta.\n",
        "# Rellene los datos con su cuenta.\n",
        "s3 = boto3.resource(\n",
        "    's3',\n",
        "    aws_access_key_id='',\n",
        "    aws_secret_access_key=''\n",
        ")\n",
        "\n",
        "# Imprimimos la lista de buckets de nuestra cuenta. No debería haber ninguno.\n",
        "for bucket in s3.list_buckets():\n",
        "  print(bucket)"
      ],
      "execution_count": null,
      "outputs": []
    },
    {
      "cell_type": "markdown",
      "metadata": {
        "id": "XZTcMK2X0_p-"
      },
      "source": [
        "#### Cuenta en Google Cloud Computing\n",
        "1. Ingresa al siguiente enlace con una cuenta Google cualquiera: https://console.cloud.google.com/freetrial/signup. Asegúrate de aceptar las condiciones de servicio.\n",
        "![Paso 1](https://drive.google.com/uc?export=view&id=1Tr5HO7UaJ4BbmO7bwMdG2bRUHWMpEfKv)  \n",
        "2. Ingresa tu número telefónico e ingresa el código que recibas mediante SMS.\n",
        "![Paso 2](https://drive.google.com/uc?export=view&id=1rtlEDse28Nj00VNaMLJjMYpthsNTcKal)  \n",
        "3. Ingresa tus datos financieros. Usa la configuración utilizada en la imagen.\n",
        "![Paso 3](https://drive.google.com/uc?export=view&id=1eQSXVaLsyFDiVBJ_ZpcI3fDwPcdEX4Et)  \n",
        "4. ¡Has creado tu cuenta! Ahora, despliega el menú y selecciona \"Cuentas de servicio\".\n",
        "![Paso 4](https://drive.google.com/uc?export=view&id=1NW1QLh8Zmu7J3mNnF6QtErb_531MfTqy)  \n",
        "![Paso 5](https://drive.google.com/uc?export=view&id=1jT8DFWFfTfI-DBJz7Dy7n1OPqVYMTTAp)\n",
        "5. En este panel, presiona el botón \"CREAR CUENTA DE SERVICIO\" y sigue las instrucciones. Puedes ponerle el nombre que gustes a la cuenta, pero selecciona tipo de cuenta \"Propietario\" para no tener limitantes en uso. Puedes ignorar la tercera opción, más adelante se pueden añadir más personas a la cuenta.\n",
        "![Paso 6](https://drive.google.com/uc?export=view&id=1n9oC2BfCaV5zMsRMLm8Gq1aZkFyGvt_P)\n",
        "![Paso 7](https://drive.google.com/uc?export=view&id=1CDV_ueM3sX2IrYg2QNhP-G0gRhFQJPhf)\n",
        "![Paso 8](https://drive.google.com/uc?export=view&id=18GjUIPD2l0uBq3GPISNOGaRa26TzUHDN)\n",
        "![Paso 9](https://drive.google.com/uc?export=view&id=16z_kG9cG602TpklOO-NlaWabtHq8B_Yj)\n",
        "6. Una vez creada la cuenta de servicio, es necesario crearle una clave, seguir instrucciones a continuación (guardando el archivo como JSON).\n",
        "![Paso 10](https://drive.google.com/uc?export=view&id=1s9K2KYKLqq5jN-gHittk3rvPJxnvHsK3)\n",
        "![Paso 11](https://drive.google.com/uc?export=view&id=1NdGN2wt41HyzNtUYDJ_tL-L1iSxaScr0)\n",
        "![Paso 12](https://drive.google.com/uc?export=view&id=1E34MGTRLRDpuLO5fYm-w8JZn2BR-rDGQ)  \n",
        "![Paso 13](https://drive.google.com/uc?export=view&id=1xlIesjmfOO7juagKf0m8Ru0wNFVuFubG)\n",
        "\n",
        "¡Listo! Ahora, hagamos uso de estas credenciales y veamos si funciona. Puedes subir el archivo directamente a esta actividad, o bien crear un nuevo *bucket* en S3, subirlo ahí y obtenerlo de ahí. ¡Eres libre de hacerlo como quieras!"
      ]
    },
    {
      "cell_type": "code",
      "metadata": {
        "id": "hTHp7CFVE_6b"
      },
      "source": [
        "# Actualizamos la variable a las nuevas credenciales.\n",
        "os.environ['GOOGLE_APPLICATION_CREDENTIALS'] = ''\n",
        "\n",
        "# Iniciamos nuevamente el cliente.\n",
        "storage_client = storage.Client()\n",
        "\n",
        "# Listamos todos los buckets disponibles (no debería haber ninguno).\n",
        "for bucket in storage_client.list_buckets():\n",
        "    print(bucket)\n"
      ],
      "execution_count": null,
      "outputs": []
    }
  ]
}