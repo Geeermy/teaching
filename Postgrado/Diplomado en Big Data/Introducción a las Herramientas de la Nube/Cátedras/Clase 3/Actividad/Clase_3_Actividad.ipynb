{
  "nbformat": 4,
  "nbformat_minor": 0,
  "metadata": {
    "colab": {
      "provenance": [],
      "toc_visible": true
    },
    "kernelspec": {
      "name": "python3",
      "display_name": "Python 3"
    },
    "language_info": {
      "name": "python"
    }
  },
  "cells": [
    {
      "cell_type": "markdown",
      "metadata": {
        "id": "WJJixIzKdEVl"
      },
      "source": [
        "# Diplomado en Big Data - Introducción a las Herramientas de la Nube\n",
        "\n",
        "### **Profesor:** Germán Leandro Contreras Sagredo\n",
        "### **Ayudantes**\n",
        "### Jorge Becerra de la Torre\n",
        "### Valentina Rojas Mercier"
      ]
    },
    {
      "cell_type": "markdown",
      "metadata": {
        "id": "u_dPhn-gKb4j"
      },
      "source": [
        "## Actividad de la Clase 3: Bases de datos relacionales, nube virtual privada\n",
        "\n",
        "La siguiente actividad mezclará la consola de AWS y la ejecución de código dentro del colab. Usaremos la consola para crear y eliminar una instancia de RDS y, por medio de código, crearemos tablas de datos, las poblaremos y las consultaremos."
      ]
    },
    {
      "cell_type": "markdown",
      "metadata": {
        "id": "LsY2I10VMFBP"
      },
      "source": [
        "# Algunas configuraciones iniciales"
      ]
    },
    {
      "cell_type": "code",
      "metadata": {
        "id": "cKGDyeF_MiAL"
      },
      "source": [
        "# Instalamos las librerias a usar\n",
        "!pip install psycopg2 boto3\n",
        "\n",
        "import boto3\n",
        "import psycopg2\n",
        "import csv"
      ],
      "execution_count": null,
      "outputs": []
    },
    {
      "cell_type": "code",
      "metadata": {
        "id": "0-DvrXHvH4P7"
      },
      "source": [
        "# Celda para obtener la IP de tu Colab\n",
        "!curl ipecho.net/plain"
      ],
      "execution_count": null,
      "outputs": []
    },
    {
      "cell_type": "markdown",
      "metadata": {
        "id": "YXJgTJ-oyfZK"
      },
      "source": [
        "Es importante mencionar algunos conceptos que verás a lo largo de la actividad:\n",
        "1. `connection`: Esta clase de `psycopg2` maneja la conexión con la base de datos, que en este caso es la instancia de RDS que creaste - en esta variable almacenaremos la sesión a la que apunta. Puedes encontrar más información [acá](https://www.psycopg.org/docs/connection.html).\n",
        "2. `cursor`: Es la clase que permite ejecutar las operaciones en SQL a la sesión de base de datos almacenada en `connection`. Para las mutaciones como `INSERT`, `CREATE TABLE` o `DROP TABLE`, es necesario llamar al método `commit` que esta expone, ya que en caso de no hacerlo, la operación no se llevará a cabo sino que se devolverá a su estado inicial mediante un _rollback_. Puedes encontrar más información [acá](https://www.psycopg.org/docs/cursor.html)."
      ]
    },
    {
      "cell_type": "markdown",
      "metadata": {
        "id": "6r4Xn3FRKetI"
      },
      "source": [
        "## DESAROLLO"
      ]
    },
    {
      "cell_type": "markdown",
      "metadata": {
        "id": "0dnu8rLo-MTs"
      },
      "source": [
        "En esta actividad deberás crear las siguientes tablas con sus respectivas columnas:\n",
        "- Tabla \"curso\" *(nombre [text])*\n",
        "- Tabla \"profesor\" *(nombre [text], edad [integer])*\n",
        "- Tabla \"estudiante\" *(nombre [text], edad [integer], curso_id [integer])*\n",
        "- Tabla \"hace_clase_en\" *(curso_id [integer], profesor_id [integer])*\n",
        "\n",
        "La información para poblar cada tabla se encuentra en la sección `Archivos`.\n",
        "\n",
        "La librería `psycopg2` es bastante directa en términos de cómo funciona: recibe una sentencia en SQL a ejecutar, ya sea para mutar tablas (crear, editar, eliminar) o solo para consultarlas. Te daremos para cada paso un ejemplo de cómo realizar esa operación específica en SQL, la que deberás rellenar con lo que corresponda en cada sección.\n",
        "\n"
      ]
    },
    {
      "cell_type": "markdown",
      "metadata": {
        "id": "ZSbZcciU3RQE"
      },
      "source": [
        "### Descarga de archivos\n",
        "\n",
        "Para almacenar la ruta de los archivos, ejecuta las siguientes celdas."
      ]
    },
    {
      "cell_type": "code",
      "metadata": {
        "id": "vipfJqOj33kD"
      },
      "source": [
        "!gdown --id 1wU36DComfSy3su0Ugz_GmhKyBI2ixaEF\n",
        "!gdown --id 1zxFSUZn3Vi5KaITx3gQeWdlfpaRzVbaL\n",
        "!gdown --id 1Om0L53hqLNaahm_ayhGGwgkgMtxnkS42\n",
        "!gdown --id 1M2vZWHSj7r2e_iGgSePtYLaXA_1EvctH"
      ],
      "execution_count": null,
      "outputs": []
    },
    {
      "cell_type": "code",
      "metadata": {
        "id": "-nd6Dlq_BVk3"
      },
      "source": [
        "# Estas serán las variables que deberás utilizar para la sección de cargar\n",
        "# archivos CSV en el método que te fue entregado.\n",
        "CURSO_CSV_FILENAME = 'curso - Hoja 1.csv'\n",
        "ESTUDIANTE_CSV_FILENAME = 'estudiante - Hoja 1.csv'\n",
        "PROFESOR_CSV_FILENAME = 'profesor - Hoja 1.csv'\n",
        "HACE_CLASES_EN_FILENAME = 'hace_clases_en - Hoja 1.csv'"
      ],
      "execution_count": null,
      "outputs": []
    },
    {
      "cell_type": "markdown",
      "metadata": {
        "id": "J34F1h1y9c2t"
      },
      "source": [
        "### Paso 1: Crear instancia de RDS por medio de la consola de AWS"
      ]
    },
    {
      "cell_type": "markdown",
      "metadata": {
        "id": "7_Yp99Jo-reQ"
      },
      "source": [
        "1. Ingresa al servicio de RDS en AWS\n",
        "\n",
        "![](https://drive.google.com/uc?export=view&id=11evZNb7CJ_aE4ivxlqZHk-aI0i-DJLBr)"
      ]
    },
    {
      "cell_type": "markdown",
      "metadata": {
        "id": "BhZ367QvBAQu"
      },
      "source": [
        "2. Ingresa a crear una base de datos\n",
        "![](https://drive.google.com/uc?export=view&id=1oeI_4X3iU1SLN0yxUJgDIWhAh6fo1OpP)"
      ]
    },
    {
      "cell_type": "markdown",
      "metadata": {
        "id": "UgJhIBBGBHgj"
      },
      "source": [
        "3. A continuación verás todas las configuraciones que debes aplicarle a la instancia, paso a paso. Primero el método y motor\n",
        "\n",
        "![](https://drive.google.com/uc?export=view&id=1_Dac47cEGxW4mOlOZA9kcsdRtB8v0cmD)\n",
        "\n"
      ]
    },
    {
      "cell_type": "markdown",
      "metadata": {
        "id": "uZ5OCkMjBT44"
      },
      "source": [
        "4. Luego elige la plantilla de capa gratuita y elige el nombre que le pondrás\n",
        "![](https://drive.google.com/uc?export=view&id=1KIhQad2W1_W5YDPkRFLgK91KpoNecK2v)"
      ]
    },
    {
      "cell_type": "markdown",
      "metadata": {
        "id": "FLb43m9tCecM"
      },
      "source": [
        "5. La instancia debe estar en una micro para que puedas seguir utilizando el free tier de AWS.\n",
        "![](https://drive.google.com/uc?export=view&id=1_dhG8cwg2xJij1Kv2MnUhPGoUgKab4Yc)"
      ]
    },
    {
      "cell_type": "markdown",
      "metadata": {
        "id": "k223sllGBjBm"
      },
      "source": [
        "6. Elige la VPC por defecto.\n",
        "![](https://drive.google.com/uc?export=view&id=1sbtHn-qolUm5JvxjYx5vple5-PmsTB1v)"
      ]
    },
    {
      "cell_type": "markdown",
      "metadata": {
        "id": "uFVifTZZBsw-"
      },
      "source": [
        "7. Continua con la autenticación\n",
        "![](https://drive.google.com/uc?export=view&id=1QWdRyPciB2g7yLDMv0yFjNMx4UN6Ma3A)"
      ]
    },
    {
      "cell_type": "markdown",
      "metadata": {
        "id": "u9Zr5ab7BxVy"
      },
      "source": [
        "8. Crea la instancia\n",
        "![](https://drive.google.com/uc?export=view&id=1ns5DWcM5TyEhtxb5i5ZITzfhLVjT4pJw)"
      ]
    },
    {
      "cell_type": "markdown",
      "metadata": {
        "id": "ojGkuhVWB10E"
      },
      "source": [
        "9. Luego, podrás ver tu instancia creada en la lista de instancias RDS de tu cuenta.\n",
        "![](https://drive.google.com/uc?export=view&id=1A7TsYbb74s59gR2gpGFraCa2vE7RuuGC)"
      ]
    },
    {
      "cell_type": "code",
      "metadata": {
        "id": "r05fhEKXMIVp"
      },
      "source": [
        "# Almacena tus credenciales para acceder a tu instancia de RDS\n",
        "RDB_AWS_ENDPOINT = ''\n",
        "PORT = ''\n",
        "USER_NAME = 'postgres'\n",
        "PASSWORD = ''\n",
        "DATABASE_NAME = 'postgres'"
      ],
      "execution_count": null,
      "outputs": []
    },
    {
      "cell_type": "code",
      "metadata": {
        "id": "Ea0By1CfNKxG"
      },
      "source": [
        "# Creamos una conexión a nuestra base de datos\n",
        "connection = psycopg2.connect(\n",
        "    database=DATABASE_NAME,\n",
        "    host = RDB_AWS_ENDPOINT,\n",
        "    port = PORT,\n",
        "    user = USER_NAME,\n",
        "    password = PASSWORD\n",
        "    )\n",
        "cursor=connection.cursor()"
      ],
      "execution_count": null,
      "outputs": []
    },
    {
      "cell_type": "markdown",
      "metadata": {
        "id": "FmxADOcm9mOl"
      },
      "source": [
        "### Paso 2: Crear tablas de datos\n",
        "Antes de ver las funciones a utilizar en esta actividad, es necesario conocer los tipos de atributo o _data types_ de PostgreSQL. Estos los puedes consultar [aquí](https://www.postgresql.org/docs/9.5/datatype.html).\n",
        "\n",
        "`execute_query:` A partir del argumento del tipo string `sql`, ejecutamos una _query_ SQL en nuestra base de datos. Particularmente, utilizaremos esta función para crear tablas. El formato recomendado es el siguiente.\n",
        "\n",
        "```\n",
        "create_table_sql = '''CREATE TABLE nombre_tabla (\n",
        "    id SERIAL PRIMARY KEY,\n",
        "    nombre_atributo tipo_atributo,\n",
        ");'''\n",
        "```\n",
        "\n",
        "De aquí es importante dejar el atributo de id como `SERIAL`, ya que esto permitirá que el identificador incremente automáticamente con cada inserción. Si lo dejan como `INT`, tendrán que agregarlo manualmente en la tupla a insertar en la tabla."
      ]
    },
    {
      "cell_type": "code",
      "metadata": {
        "id": "6cjnSnfA9p-V"
      },
      "source": [
        "# Función para ejecutar un comando SQL.\n",
        "def execute_query(sql):\n",
        "  cursor.execute(sql)\n",
        "  connection.commit()"
      ],
      "execution_count": null,
      "outputs": []
    },
    {
      "cell_type": "markdown",
      "metadata": {
        "id": "tGZZb7cllnAi"
      },
      "source": [
        "`rollback:` Esta función deshace la última acción que hayas ejecutado (útil para cuando cometas un error que bloquee la realización de nuevas operaciones, debes deshacer aquella transacción antes)."
      ]
    },
    {
      "cell_type": "code",
      "metadata": {
        "id": "6RLy0X_ACLq8"
      },
      "source": [
        "# Función para deshacer un commit\n",
        "def rollback():\n",
        "  cursor.execute(\"ROLLBACK\")\n",
        "  connection.commit()"
      ],
      "execution_count": null,
      "outputs": []
    },
    {
      "cell_type": "code",
      "metadata": {
        "id": "LNA2q-0S3lve"
      },
      "source": [
        "rollback()"
      ],
      "execution_count": null,
      "outputs": []
    },
    {
      "cell_type": "code",
      "metadata": {
        "id": "xW-scGbl-3LZ"
      },
      "source": [
        "# Crear cada una de las tablas\n"
      ],
      "execution_count": null,
      "outputs": []
    },
    {
      "cell_type": "markdown",
      "metadata": {
        "id": "QAUsipyr994q"
      },
      "source": [
        "### Paso 3: Poblar tablas\n",
        "Te facilitamos 2 funciones, una para poblar cada una de las tablas que creaste en el paso anterior. Una te permite subir información por medio de un archivo csv, mientras que la otra te permite insertar una fila en la tabla."
      ]
    },
    {
      "cell_type": "markdown",
      "metadata": {
        "id": "CcN7yG7Fwax-"
      },
      "source": [
        "`load_csv:` Recibe como parámetros el string del nombre del archivo CSV `csv_filename` (que puedes obtener de las variables dadas al inicio de este documento) con el que poblarás la tabla deseada; y el string `sql` con la sentencia SQL de inserción. El formato de esta debe ser el siguiente:\n",
        "\n",
        "```\n",
        "insert_tuple_sql = 'INSERT INTO nombre_tabla (atributo_1, atributo_2, ...) VALUES (%s, %s, ...)'\n",
        "```"
      ]
    },
    {
      "cell_type": "code",
      "metadata": {
        "id": "HyTwwcZg-1dI"
      },
      "source": [
        "# Función para poblar una tabla usando un csv\n",
        "def load_csv(csv_filename, sql):\n",
        "  csv_data = csv.reader(open(csv_filename))\n",
        "  next(csv_data) # para saltarnos los headers\n",
        "  for row in csv_data:\n",
        "      cursor.execute(sql, row)\n",
        "  connection.commit()"
      ],
      "execution_count": null,
      "outputs": []
    },
    {
      "cell_type": "markdown",
      "metadata": {
        "id": "QJnW4QBOwbbG"
      },
      "source": [
        "`insert_tuple:` Esta función inserta una fila en una tabla. Recibe como argumentos la tupla con los valores a insertar `attributes_tuple` (el que debe respetar el orden y formato de los atributos de la tabla); y el string `sql` correspondiente a la sentencia en SQL de la operación de inserción. Esta sigue el mismo formato utilizado en la función anterior."
      ]
    },
    {
      "cell_type": "code",
      "metadata": {
        "id": "LCleZ0Vq_z2i"
      },
      "source": [
        "# Función para insertar una fila en una tabla\n",
        "def insert_tuple(attribute_tuple, sql):\n",
        "  cursor.execute(sql, attribute_tuple)\n",
        "  connection.commit()"
      ],
      "execution_count": null,
      "outputs": []
    },
    {
      "cell_type": "markdown",
      "metadata": {
        "id": "aD315waqAGSp"
      },
      "source": [
        "### Paso 3.1: Poblar tablas por medio de un archivo csv\n"
      ]
    },
    {
      "cell_type": "code",
      "metadata": {
        "id": "t0niNjh-_5rM"
      },
      "source": [
        "# Utiliza los archivos csv correspondientes a cada tabla para poblarlas"
      ],
      "execution_count": null,
      "outputs": []
    },
    {
      "cell_type": "markdown",
      "metadata": {
        "id": "53Y5teWRASM7"
      },
      "source": [
        "### Paso 3.2: Insertar fila en una tabla"
      ]
    },
    {
      "cell_type": "code",
      "metadata": {
        "id": "YEyXkqsiAbxF"
      },
      "source": [
        "# Para cada tabla, inserta al menos una nueva fila"
      ],
      "execution_count": null,
      "outputs": []
    },
    {
      "cell_type": "markdown",
      "metadata": {
        "id": "TsRpm7qNAoEI"
      },
      "source": [
        "### Paso 4: Consultar información\n",
        "A continuación te entregaremos 3 funciones para obtener datos de las distintas tablas que se encuentran en tu instancia de RDS.\n",
        "\n",
        "`select_from_table`: A partir del string `table_name`, correspondiente al nombre de una tabla, obtiene todas sus filas y atributos."
      ]
    },
    {
      "cell_type": "code",
      "metadata": {
        "id": "nOcutEZDBijM"
      },
      "source": [
        "# Función para consultar una tabla\n",
        "def select_from_table(table_name):\n",
        "  sql = f'SELECT * FROM {table_name};'\n",
        "  cursor.execute(sql)\n",
        "  rows = cursor.fetchall()\n",
        "  for row in rows:\n",
        "    print(row)"
      ],
      "execution_count": null,
      "outputs": []
    },
    {
      "cell_type": "markdown",
      "metadata": {
        "id": "PvHBOVRA84Lw"
      },
      "source": [
        "`query_result`: A partir de un string `sql` correspondiente a una sentencia SQL, imprime todas las filas resultantes de la consulta. En este caso, el objetivo es obtener los resultados de un **cruce** entre tablas mediante un `INNER JOIN`. A continuación, un ejemplo:\n",
        "\n",
        "```\n",
        "inner_join_sql = 'SELECT tabla1.atributo_1, tabla1.atributo_2 FROM tabla1 INNER JOIN tabla2 ON tabla1.atributo = tabla2.atributo'\n",
        "```"
      ]
    },
    {
      "cell_type": "code",
      "metadata": {
        "id": "LDyS2QGIBlL5"
      },
      "source": [
        "# Función para cruzar información entre tablas\n",
        "def query_result(sql):\n",
        "  cursor.execute(sql)\n",
        "  rows = cursor.fetchall()\n",
        "  for row in rows:\n",
        "    print(row)"
      ],
      "execution_count": null,
      "outputs": []
    },
    {
      "cell_type": "markdown",
      "metadata": {
        "id": "Jmc_F88O86FK"
      },
      "source": [
        "`create_view`: Esta función tiene por objetivo crear una \"View\". Para ello, recibe como argumentos el string `view_name` correspondiente al nombre de la vista y el string `view_query_sql`, correspondiente a la consulta que generará la vista."
      ]
    },
    {
      "cell_type": "code",
      "metadata": {
        "id": "rRkr03LuBq2M"
      },
      "source": [
        "# Función para realizar una consulta y guardarla en una \"View\"\n",
        "def create_view(view_name, view_query_sql):\n",
        "  sql = f'CREATE VIEW {view_name} AS {view_query_sql}'\n",
        "  cursor.execute(sql)\n",
        "  connection.commit()"
      ],
      "execution_count": null,
      "outputs": []
    },
    {
      "cell_type": "markdown",
      "metadata": {
        "id": "XolJuhm3Bzib"
      },
      "source": [
        "### Paso 4.1: Consulta la información de cada una de las tablas"
      ]
    },
    {
      "cell_type": "code",
      "metadata": {
        "id": "DFc7hqB6B6Do"
      },
      "source": [],
      "execution_count": null,
      "outputs": []
    },
    {
      "cell_type": "markdown",
      "metadata": {
        "id": "2iFtWpa4B6fJ"
      },
      "source": [
        "### Paso 4.2: Realiza el cruce entre la tabla curso y estudiante"
      ]
    },
    {
      "cell_type": "code",
      "metadata": {
        "id": "j3bbhAh7CFp2"
      },
      "source": [],
      "execution_count": null,
      "outputs": []
    },
    {
      "cell_type": "markdown",
      "metadata": {
        "id": "YZ3QE7LHCGGs"
      },
      "source": [
        "### Paso 4.3: Realiza la consulta de la slide 12 de la clase y almacénala en una View"
      ]
    },
    {
      "cell_type": "code",
      "metadata": {
        "id": "OhuaI782CNVH"
      },
      "source": [],
      "execution_count": null,
      "outputs": []
    },
    {
      "cell_type": "markdown",
      "metadata": {
        "id": "eJXJbrK1DKsR"
      },
      "source": [
        "### Paso 4.4: Realiza una consulta a la view que creaste."
      ]
    },
    {
      "cell_type": "markdown",
      "metadata": {
        "id": "YuDXQ7zsDRI6"
      },
      "source": [
        "Estas se consultas como si fueran una tabla cualquiera. Puedes consultar las slides de la clase y utilizar los SQL de consulta que te facilitamos en la sección anterior."
      ]
    },
    {
      "cell_type": "code",
      "metadata": {
        "id": "9fFfDYzfDQrd"
      },
      "source": [
        "# Consulta la view que creaste"
      ],
      "execution_count": null,
      "outputs": []
    },
    {
      "cell_type": "markdown",
      "metadata": {
        "id": "GwR0VAQHCszA"
      },
      "source": [
        "### Paso 5: Borrar tablas\n",
        "A continuación se te solicitará borrar las tablas creadas. Lo importante es el orden en que las borras, pues existe cierta dependencia entre ellas y si no la respetas, no será posible eliminarlas. Para ello, utiliza la función facilitada a continuación.\n",
        "\n",
        "`drop_table:` Elimina la tabla cuyo nombre le entregues a partir del argumento de tipo string `table_name`."
      ]
    },
    {
      "cell_type": "code",
      "metadata": {
        "id": "egJ_2ZB8CSQN"
      },
      "source": [
        "def drop_table(table_name):\n",
        "  cursor.execute(f\"DROP TABLE {table_name} CASCADE;\")\n",
        "  connection.commit()"
      ],
      "execution_count": null,
      "outputs": []
    },
    {
      "cell_type": "code",
      "metadata": {
        "id": "Slm-1IN5DIGS"
      },
      "source": [
        "# Elimina las tablas creadas\n"
      ],
      "execution_count": null,
      "outputs": []
    },
    {
      "cell_type": "markdown",
      "metadata": {
        "id": "swRCI6HADL2R"
      },
      "source": [
        "### Paso 6: Borrar instancia de RDS\n",
        "Finalmente, para evitar cobros no deseados, te mostramos cómo borrar tu instancia de RDS por medio de la consola.\n",
        "\n",
        "1. Presiona el botón \"Acciones\" habiendo seleccionado la instancia a borrar y escoge la opción \"Eliminar\".\n",
        "![](https://drive.google.com/uc?export=view&id=12s05apOJBWq7KunHp48wW5Wkavkf9L1n)\n",
        "\n",
        "2. Marca tu configuración deseada de _snapshots_ y _backups_ antes de eliminar de forma definitiva tu instancia.\n",
        "![](https://drive.google.com/uc?export=view&id=1B0z_XkMuH-**C2yzLQknSeGIser3TaDovW**)"
      ]
    },
    {
      "cell_type": "markdown",
      "metadata": {
        "id": "npEYoTyQEnKF"
      },
      "source": [
        "# Anexos\n",
        "\n",
        "[PyMySQL](https://pypi.org/project/PyMySQL/), librería dedicada a bases de datos con el motor MySQL, útil si es que fuera el motor utilizado en nuestra instancia."
      ]
    }
  ]
}