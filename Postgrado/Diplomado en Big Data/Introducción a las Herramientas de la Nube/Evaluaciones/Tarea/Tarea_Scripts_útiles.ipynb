{
  "nbformat": 4,
  "nbformat_minor": 0,
  "metadata": {
    "colab": {
      "provenance": []
    },
    "kernelspec": {
      "name": "python3",
      "display_name": "Python 3"
    },
    "language_info": {
      "name": "python"
    }
  },
  "cells": [
    {
      "cell_type": "markdown",
      "metadata": {
        "id": "nimw3GZSW-vX"
      },
      "source": [
        "# Diplomado en Big Data - Introducción a las Herramientas de la Nube\n",
        "\n",
        "### **Profesor:** Germán Leandro Contreras Sagredo\n",
        "### **Ayudantes**\n",
        "### Jorge Becerra de la Torre\n",
        "### Valentina Rojas Mercier"
      ]
    },
    {
      "cell_type": "markdown",
      "metadata": {
        "id": "IrPTbVrOXIOf"
      },
      "source": [
        "## Tarea - _Scripts_ de utilidad\n",
        "\n",
        "A continuación, te facilitaremos algunos _scripts_ que te serán de utilidad para el desarrollo de tu tarea."
      ]
    },
    {
      "cell_type": "markdown",
      "metadata": {
        "id": "1rJZYuuEXV6D"
      },
      "source": [
        "### 1) Transformación de códigos a valores de texto\n",
        "\n",
        "Como te habrás dado cuenta, existen algunas columnas en el archivo CSV de campos numéricos que representan un valor en texto. ¿Cómo puedes llevar a cabo la transformación? Aquí te mostramos un ejemplo."
      ]
    },
    {
      "cell_type": "code",
      "metadata": {
        "id": "Tx3M-RYLW8e7"
      },
      "source": [
        "# Diccionario que transforma los códigos de tipo de dependencia en el valor\n",
        "# de texto correspondiente.\n",
        "COD_DEPE_DICT = {\n",
        "  1: 'Corporación Municipal',\n",
        "  2: 'Municipal DAEM',\n",
        "  3: 'Particular Subvencionado',\n",
        "  4: 'Particular Pagado',\n",
        "  5: 'Corporación de Administración Delegada (DL 3166)',\n",
        "  6: 'Servicio Local de Educación',\n",
        "}\n",
        "\n",
        "# Función que lleva a cabo la transformación.\n",
        "def transform_cod_depe_field(value):\n",
        "  # Si el código no existe, retornará None.\n",
        "  return COD_DEPE_DICT.get(value)"
      ],
      "execution_count": null,
      "outputs": []
    },
    {
      "cell_type": "code",
      "metadata": {
        "colab": {
          "base_uri": "https://localhost:8080/"
        },
        "id": "IlsvlmgtYWag",
        "outputId": "1d39e702-8f12-41a6-f387-3fa19e0834ef"
      },
      "source": [
        "print(transform_cod_depe_field(2))\n",
        "print(transform_cod_depe_field(3))\n",
        "print(transform_cod_depe_field(4))\n",
        "print(transform_cod_depe_field(7)) # Esto debe imprimir \"None\"."
      ],
      "execution_count": null,
      "outputs": [
        {
          "output_type": "stream",
          "text": [
            "Municipal DAEM\n",
            "Particular Subvencionado\n",
            "Particular Pagado\n",
            "None\n"
          ],
          "name": "stdout"
        }
      ]
    },
    {
      "cell_type": "markdown",
      "metadata": {
        "id": "ytps2VsxYt1U"
      },
      "source": [
        "### 2) Creación de tabla si no existe\n",
        "\n",
        "Nuestras funciones Lambda se podrían ejecutar más de una vez. Si esto gatilla la creación de una tabla, podría causar un error. No obstante, tenemos una consulta que se encarga de crear una tabla si, y solo si no existe.\n",
        "\n",
        "```\n",
        "CREATE TABLE IF NOT EXISTS establecimiento (\n",
        "  id SERIAL PRIMARY KEY,\n",
        "  arg1 VARCHAR(256),\n",
        "  arg2 INT,\n",
        "  ...\n",
        ")\n",
        "```"
      ]
    },
    {
      "cell_type": "markdown",
      "metadata": {
        "id": "AA2y3MAlai3f"
      },
      "source": [
        "### 3) Lectura de archivo CSV como lista de diccionarios\n",
        "\n",
        "En `Python`, cuando leemos un archivo CSV, generalmente tratamos cada fila como una lista de objetos `string` que vamos procesando según la posición de la columna. Por ejemplo:\n",
        "\n",
        "```\n",
        "import csv\n",
        "with open('archivo.csv') as f:\n",
        "    csv_reader = csv.reader(f, delimiter=',')\n",
        "    row_count = 0\n",
        "    for row in csv_reader:\n",
        "        row_count += 1\n",
        "        print(f'Fila nº {row_count}')\n",
        "        print(f'Valor columna 1: {row[0]}')\n",
        "        print(f'Valor columna 2: {row[1]}')\n",
        "        ...\n",
        "```\n",
        "\n",
        "No obstante, para archivos CSV con una cantidad significativa de columnas, se vuelve tedioso obtener los valores de interés de una fila a partir del índice. Por lo tanto, les hacemos entrega de un método para tratar cada fila como un diccionario, esto es, aludiendo al valor de interés a partir del **nombre del _header_**."
      ]
    },
    {
      "cell_type": "code",
      "metadata": {
        "colab": {
          "base_uri": "https://localhost:8080/"
        },
        "id": "EiaSHudKcRnI",
        "outputId": "36181961-a97e-4e5a-d905-8987013ba866"
      },
      "source": [
        "# Descarga de personas.csv\n",
        "!gdown --id 1ibVvf63HCnRTX7nwhE6H7dJKGz8pZ4iv"
      ],
      "execution_count": null,
      "outputs": [
        {
          "output_type": "stream",
          "text": [
            "Downloading...\n",
            "From: https://drive.google.com/uc?id=1ibVvf63HCnRTX7nwhE6H7dJKGz8pZ4iv\n",
            "To: /content/personas.csv\n",
            "\r  0% 0.00/628 [00:00<?, ?B/s]\r100% 628/628 [00:00<00:00, 1.28MB/s]\n"
          ],
          "name": "stdout"
        }
      ]
    },
    {
      "cell_type": "code",
      "metadata": {
        "colab": {
          "base_uri": "https://localhost:8080/"
        },
        "id": "Jqbx2AOWZrQf",
        "outputId": "f6778b0e-47f0-4ba9-d42c-dee0d57d95d6"
      },
      "source": [
        "from csv import DictReader\n",
        "\n",
        "with open('personas.csv', 'r') as f:\n",
        "    # Pasamos el archivo a la clase DictReader().\n",
        "    dict_reader = DictReader(f)\n",
        "    # Iteramos sobre la lista de filas, que ahora es un diccionario.\n",
        "    for row in dict_reader:\n",
        "      # Ahora la fila es un diccionario. Podemos obtener los atributos de un\n",
        "      # registro solo con su nombre.\n",
        "      print(row['apellidos'])"
      ],
      "execution_count": null,
      "outputs": [
        {
          "output_type": "stream",
          "text": [
            "Contreras Sagredo\n",
            "Rojas Mercier\n",
            "Becerra de la Torre\n",
            "Triviño\n",
            "Einstein\n",
            "Curie\n",
            "Sanchez\n",
            "Mejillas\n",
            "Bello\n",
            "de arco\n"
          ],
          "name": "stdout"
        }
      ]
    },
    {
      "cell_type": "markdown",
      "metadata": {
        "id": "Cs2uPLVVzNPR"
      },
      "source": [
        "### 4) Actualización de filas en una tabla\n",
        "\n",
        "Lo más probable es que necesiten actualizar algunas filas de sus tablas al leer otro archivo de datos (ejemplo: porcentaje de alumnos prioritarios). Para estos casos, puede utilizar el siguiente comando SQL.\n",
        "\n",
        "```\n",
        "UPDATE establecimiento\n",
        "SET porcentaje_prioritarios = numero\n",
        "WHERE rbd = rbd_establecimiento;\n",
        "```\n",
        "\n",
        "En este comando, debería reemplazar `numero` por el valor del porcentaje leído y `rbd_establecimiento` por el RBD leído del archivo."
      ]
    }
  ]
}