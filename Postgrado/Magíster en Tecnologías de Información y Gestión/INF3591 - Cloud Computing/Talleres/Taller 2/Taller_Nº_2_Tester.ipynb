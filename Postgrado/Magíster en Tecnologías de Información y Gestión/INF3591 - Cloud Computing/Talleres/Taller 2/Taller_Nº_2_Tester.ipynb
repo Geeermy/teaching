{
  "nbformat": 4,
  "nbformat_minor": 0,
  "metadata": {
    "colab": {
      "provenance": []
    },
    "kernelspec": {
      "name": "python3",
      "display_name": "Python 3"
    },
    "language_info": {
      "name": "python"
    }
  },
  "cells": [
    {
      "cell_type": "markdown",
      "source": [
        "# INF3591 - Cloud Computing :: Taller Nº 2 - _Tester_\n",
        "### Profesores: Cristian Ruz, Germán Contreras Sagredo\n",
        "### Ayudante: Juan Pablo Gastovic\n"
      ],
      "metadata": {
        "id": "0xB2GeRxo4v5"
      }
    },
    {
      "cell_type": "markdown",
      "source": [
        "El siguiente Google Colab tiene por objetivo corroborar que su instancia de Amazon RDS no es públicamente accesible y, por otra parte, que su instancia de Amazon EC2 puede acceder a esta."
      ],
      "metadata": {
        "id": "JUDZ-ZD9Wbaa"
      }
    },
    {
      "cell_type": "markdown",
      "source": [
        "## _Testing_ - Instancia Amazon RDS\n",
        "\n",
        "En primer lugar, ejecute la celda a continuación para poder instalar las librerías necesarias para realizar el _testing_."
      ],
      "metadata": {
        "id": "9JEiKFOfpWQj"
      }
    },
    {
      "cell_type": "code",
      "execution_count": null,
      "metadata": {
        "id": "Il2hW2DTo2W4"
      },
      "outputs": [],
      "source": [
        "!pip install PyMySQL"
      ]
    },
    {
      "cell_type": "markdown",
      "source": [
        "Luego, en esta celda complete las variables vacías (dentro de las comillas, sin comillas para el puerto) con los atributos de conectividad de su instancia en RDS."
      ],
      "metadata": {
        "id": "uyhg3CloBwzJ"
      }
    },
    {
      "cell_type": "code",
      "source": [
        "# Punto de enlace de la instancia de base de datos.\n",
        "DATABASE_HOST = ''\n",
        "# Nombre de la base de datos (NO CONFUNDIR CON EL ID DE LA INSTANCIA).\n",
        "DATABASE_NAME = ''\n",
        "# Puerto de la base de datos (por defecto 3306 para motor MySQL).\n",
        "DATABASE_PORT = 3306\n",
        "# Nombre de usuario maestro (por defecto \"admin\" para motor MySQL).\n",
        "DATABASE_USERNAME = 'admin'\n",
        "# Contraseña de usuario maestro.\n",
        "DATABASE_PASSWORD = ''"
      ],
      "metadata": {
        "id": "ye6DrtzMBuex"
      },
      "execution_count": null,
      "outputs": []
    },
    {
      "cell_type": "markdown",
      "source": [
        "Luego, ejecutaremos la conexión a la base de datos."
      ],
      "metadata": {
        "id": "MacRfBYXFpFd"
      }
    },
    {
      "cell_type": "code",
      "source": [
        "import pymysql\n",
        "pymysql.connect(\n",
        "    host=DATABASE_HOST,\n",
        "    database=DATABASE_NAME,\n",
        "    port=DATABASE_PORT,\n",
        "    user=DATABASE_USERNAME,\n",
        "    password=DATABASE_PASSWORD\n",
        ")"
      ],
      "metadata": {
        "id": "5DW-OiKhFruO"
      },
      "execution_count": null,
      "outputs": []
    },
    {
      "cell_type": "markdown",
      "source": [
        "Si la celda anterior se ejecuta y genera error por `Timeout`, entonces configuró su instancia correctamente."
      ],
      "metadata": {
        "id": "6fIa3qAQGaYZ"
      }
    },
    {
      "cell_type": "markdown",
      "source": [
        "## _Testing_ - Instancia Amazon EC2\n",
        "\n",
        "Para verificar que su instancia EC2 puede acceder a la base de datos creada en RDS, siga los siguientes pasos.\n",
        "\n",
        "1. Conéctese a su instancia en EC2 y, en la consola, instale para Python 3 la librería PyMySQL con el siguiente comando: `python3 -m pip install PyMySQL`\n",
        "\n",
        "2. Cree un archivo Python ejecutando el siguiente comando: `touch test.py`\n",
        "\n",
        "2. Complete con las credenciales de su instancia RDS la siguiente celda de código. **No es necesario que la ejecute.**"
      ],
      "metadata": {
        "id": "FjY17mT2_XcM"
      }
    },
    {
      "cell_type": "code",
      "source": [
        "import pymysql\n",
        "########################### COMPLETAR ESTA SECCIÓN ###########################\n",
        "# Punto de enlace de la instancia de base de datos.\n",
        "DATABASE_HOST = ''\n",
        "# Nombre de la base de datos (NO CONFUNDIR CON EL ID DE LA INSTANCIA).\n",
        "DATABASE_NAME = ''\n",
        "# Puerto de la base de datos (por defecto 3306 para motor MySQL).\n",
        "DATABASE_PORT = 3306\n",
        "# Nombre de usuario maestro (por defecto \"admin\" para motor MySQL).\n",
        "DATABASE_USERNAME = 'admin'\n",
        "# Contraseña de usuario maestro.\n",
        "DATABASE_PASSWORD = ''\n",
        "########################### COMPLETAR ESTA SECCIÓN ###########################\n",
        "\n",
        "### CONEXIÓN A LA BASE DE DATOS.\n",
        "db = pymysql.connect(\n",
        "    host=DATABASE_HOST,\n",
        "    database=DATABASE_NAME,\n",
        "    port=DATABASE_PORT,\n",
        "    user=DATABASE_USERNAME,\n",
        "    password=DATABASE_PASSWORD\n",
        ")\n",
        "cursor = db.cursor()\n",
        "\n",
        "### CREAR TABLA CON DATOS\n",
        "create_user_sql = '''\n",
        "  CREATE TABLE user (\n",
        "    id SERIAL PRIMARY KEY,\n",
        "    username VARCHAR(256),\n",
        "    role VARCHAR(32)\n",
        "  );\n",
        "'''\n",
        "insert_users_sql = '''\n",
        "  INSERT INTO user (username, role) VALUES\n",
        "    ('cruz', 'Docente'),\n",
        "    ('glcontreras', 'Docente'),\n",
        "    ('jpgastovic', 'Ayudante');\n",
        "'''\n",
        "cursor.execute(create_user_sql)\n",
        "cursor.execute(insert_users_sql)\n",
        "cursor.connection.commit()\n",
        "\n",
        "### CONSULTAR TABLA\n",
        "fetch_users_sql = 'SELECT id, username, role FROM user;'\n",
        "cursor.execute(fetch_users_sql)\n",
        "users = cursor.fetchall()\n",
        "for user in users:\n",
        "  print(f'ID: {user[0]}\\nNombre de usuario: {user[1]}\\nRol: {user[2]}')\n",
        "  print('-'*20)\n",
        "\n",
        "### ELIMINAR TABLA\n",
        "drop_user_table_sql = 'DROP TABLE user;'\n",
        "cursor.execute(drop_user_table_sql)\n",
        "cursor.connection.commit()"
      ],
      "metadata": {
        "id": "9o7wnWGDw-T4"
      },
      "execution_count": null,
      "outputs": []
    },
    {
      "cell_type": "markdown",
      "source": [
        "4. Completadas las credenciales, copie este código y péguelo en el archivo `test.py` creado. Para poder editar el archivo desde consola, ejecute el siguiente comando: `nano test.py`\n",
        "\n",
        "5. Terminado el pegado, con la siguiente secuencia guarda los cambios: `Ctrl+X` (salir del archivo) - `Y` (confirmar cambios) - `Enter` (mantener el nombre del archivo).\n",
        "\n",
        "6. Finalmente, si todo está en orden, al ejecutar el archivo se imprimirán en consola los usuarios creados en el _tester_ del taller 1: `python3 test.py`"
      ],
      "metadata": {
        "id": "bkyYrwWe0d_I"
      }
    }
  ]
}